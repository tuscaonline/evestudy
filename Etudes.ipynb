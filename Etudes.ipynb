{
 "cells": [
  {
   "cell_type": "code",
   "execution_count": 2,
   "metadata": {},
   "outputs": [],
   "source": [
    "import rich.progress\n",
    "import yaml\n",
    "from pathlib import Path"
   ]
  },
  {
   "cell_type": "code",
   "execution_count": 3,
   "metadata": {},
   "outputs": [],
   "source": [
    "sdePath = Path('../sde')\n",
    "fsdPath = sdePath / 'fsd'"
   ]
  },
  {
   "cell_type": "code",
   "execution_count": 4,
   "metadata": {},
   "outputs": [
    {
     "data": {
      "application/vnd.jupyter.widget-view+json": {
       "model_id": "82a74d668b3c4e568f5c93f2276818f9",
       "version_major": 2,
       "version_minor": 0
      },
      "text/plain": [
       "Output()"
      ]
     },
     "metadata": {},
     "output_type": "display_data"
    },
    {
     "data": {
      "text/html": [
       "<pre style=\"white-space:pre;overflow-x:auto;line-height:normal;font-family:Menlo,'DejaVu Sans Mono',consolas,'Courier New',monospace\"></pre>\n"
      ],
      "text/plain": []
     },
     "metadata": {},
     "output_type": "display_data"
    }
   ],
   "source": [
    "with rich.progress.open(fsdPath/'types.yaml', \"r\", encoding='utf-8') as fd:\n",
    "    dTypes:dict = yaml.load(fd, yaml.CLoader)"
   ]
  },
  {
   "cell_type": "code",
   "execution_count": 5,
   "metadata": {},
   "outputs": [
    {
     "data": {
      "text/plain": [
       "{('basePrice', float),\n",
       " ('capacity', float),\n",
       " ('description', dict),\n",
       " ('factionID', int),\n",
       " ('graphicID', int),\n",
       " ('groupID', int),\n",
       " ('iconID', int),\n",
       " ('marketGroupID', int),\n",
       " ('mass', float),\n",
       " ('masteries', dict),\n",
       " ('metaGroupID', float),\n",
       " ('metaGroupID', int),\n",
       " ('name', dict),\n",
       " ('portionSize', int),\n",
       " ('published', bool),\n",
       " ('raceID', int),\n",
       " ('radius', float),\n",
       " ('sofFactionName', str),\n",
       " ('sofMaterialSetID', int),\n",
       " ('soundID', int),\n",
       " ('traits', dict),\n",
       " ('variationParentTypeID', int),\n",
       " ('volume', float)}"
      ]
     },
     "execution_count": 5,
     "metadata": {},
     "output_type": "execute_result"
    }
   ],
   "source": [
    "clef = set()\n",
    "for i in dTypes.values():\n",
    "    for key, val in i.items():\n",
    "        clef.add((key, type(val)))\n",
    "clef"
   ]
  }
 ],
 "metadata": {
  "kernelspec": {
   "display_name": "evestudy-HXONSRgu-py3.13",
   "language": "python",
   "name": "python3"
  },
  "language_info": {
   "codemirror_mode": {
    "name": "ipython",
    "version": 3
   },
   "file_extension": ".py",
   "mimetype": "text/x-python",
   "name": "python",
   "nbconvert_exporter": "python",
   "pygments_lexer": "ipython3",
   "version": "3.13.2"
  }
 },
 "nbformat": 4,
 "nbformat_minor": 2
}
