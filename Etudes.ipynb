{
 "cells": [
  {
   "cell_type": "code",
   "execution_count": 2,
   "metadata": {},
   "outputs": [],
   "source": [
    "import rich.progress\n",
    "import yaml\n",
    "from pathlib import Path"
   ]
  },
  {
   "cell_type": "code",
   "execution_count": 3,
   "metadata": {},
   "outputs": [],
   "source": [
    "sdePath = Path('../sde')\n",
    "fsdPath = sdePath / 'fsd'"
   ]
  },
  {
   "cell_type": "code",
   "execution_count": 13,
   "metadata": {},
   "outputs": [
    {
     "data": {
      "application/vnd.jupyter.widget-view+json": {
       "model_id": "2d1a82214ea64a999147ed4aba17e69f",
       "version_major": 2,
       "version_minor": 0
      },
      "text/plain": [
       "Output()"
      ]
     },
     "metadata": {},
     "output_type": "display_data"
    },
    {
     "data": {
      "text/html": [
       "<pre style=\"white-space:pre;overflow-x:auto;line-height:normal;font-family:Menlo,'DejaVu Sans Mono',consolas,'Courier New',monospace\"></pre>\n"
      ],
      "text/plain": []
     },
     "metadata": {},
     "output_type": "display_data"
    }
   ],
   "source": [
    "with rich.progress.open(fsdPath/'types.yaml', \"r\", encoding='utf-8') as fd:\n",
    "    dTypes:dict = yaml.load(fd, yaml.CLoader)"
   ]
  },
  {
   "cell_type": "code",
   "execution_count": 14,
   "metadata": {},
   "outputs": [
    {
     "data": {
      "text/plain": [
       "{'basePrice': 30000.0,\n",
       " 'description': {'de': 'Eine ultraschwere Lenkwaffe mit Durchschlagkopf. Sie ist zwar ein langsames Projektil, aber ihr bloßes Schadenspotential ist einfach überwältigend.',\n",
       "  'en': 'An ultra-heavy piercing missile. While it is a slow projectile, its sheer damage potential is simply staggering.',\n",
       "  'es': 'Misil perforante ultrapesado. Aunque lento, su potencial de daño real resulta impresionante.',\n",
       "  'fr': \"Missile perforant ultra-lourd. Il s'agit certes d'un projectile assez lent, mais au potentiel destructeur tout simplement impressionnant.\",\n",
       "  'ja': 'ウルトラヘビーピアシングミサイル。速度は遅いが、その破壊力は実に驚異的。',\n",
       "  'ko': '대형 관통 미사일입니다. 느린 비행 속도를 지니고 있으나 타격 시 적에게 치명적인 피해를 입힙니다.',\n",
       "  'ru': 'Сверхтяжелая бронебойная ракета. Отличается низкой скоростью, но ее ударная мощь поражает воображение.',\n",
       "  'zh': '一种终极重型穿刺导弹。虽然慢而笨重，但是破坏力着实惊人。'},\n",
       " 'graphicID': 20014,\n",
       " 'groupID': 89,\n",
       " 'iconID': 1346,\n",
       " 'marketGroupID': 923,\n",
       " 'mass': 1500.0,\n",
       " 'metaGroupID': 1,\n",
       " 'name': {'de': 'Scourge Torpedo',\n",
       "  'en': 'Scourge Torpedo',\n",
       "  'es': 'Torpedo Scourge',\n",
       "  'fr': 'Torpille Scourge',\n",
       "  'ja': 'スコージトルピード',\n",
       "  'ko': '스커지 토피도',\n",
       "  'ru': 'Scourge Torpedo',\n",
       "  'zh': '鞭挞鱼雷'},\n",
       " 'portionSize': 100,\n",
       " 'published': True,\n",
       " 'radius': 300.0,\n",
       " 'volume': 0.05}"
      ]
     },
     "execution_count": 14,
     "metadata": {},
     "output_type": "execute_result"
    }
   ],
   "source": [
    "dTypes[267]"
   ]
  },
  {
   "cell_type": "code",
   "execution_count": 9,
   "metadata": {},
   "outputs": [
    {
     "data": {
      "text/plain": [
       "{('materials', list)}"
      ]
     },
     "execution_count": 9,
     "metadata": {},
     "output_type": "execute_result"
    }
   ],
   "source": [
    "clef = set()\n",
    "for i in dTypes.values():\n",
    "    for key, val in i.items():\n",
    "        clef.add((key, type(val)))\n",
    "clef"
   ]
  },
  {
   "cell_type": "code",
   "execution_count": 15,
   "metadata": {},
   "outputs": [
    {
     "data": {
      "application/vnd.jupyter.widget-view+json": {
       "model_id": "24c922ea96a8411bb4592755a0cec4bd",
       "version_major": 2,
       "version_minor": 0
      },
      "text/plain": [
       "Output()"
      ]
     },
     "metadata": {},
     "output_type": "display_data"
    },
    {
     "data": {
      "text/html": [
       "<pre style=\"white-space:pre;overflow-x:auto;line-height:normal;font-family:Menlo,'DejaVu Sans Mono',consolas,'Courier New',monospace\"></pre>\n"
      ],
      "text/plain": []
     },
     "metadata": {},
     "output_type": "display_data"
    }
   ],
   "source": [
    "with rich.progress.open(fsdPath/'typeMaterials.yaml', \"r\", encoding='utf-8') as fd:\n",
    "    dTypeMaterials:dict = yaml.load(fd, yaml.CLoader)"
   ]
  },
  {
   "cell_type": "code",
   "execution_count": 21,
   "metadata": {},
   "outputs": [
    {
     "data": {
      "text/plain": [
       "{'materials': [{'materialTypeID': 34, 'quantity': 1876},\n",
       "  {'materialTypeID': 39, 'quantity': 12},\n",
       "  {'materialTypeID': 40, 'quantity': 4}]}"
      ]
     },
     "execution_count": 21,
     "metadata": {},
     "output_type": "execute_result"
    }
   ],
   "source": [
    "dTypeMaterials[267]"
   ]
  },
  {
   "cell_type": "code",
   "execution_count": 20,
   "metadata": {},
   "outputs": [
    {
     "data": {
      "text/plain": [
       "{'capacity': 1.0,\n",
       " 'description': {'de': 'Ein energiestarker Strahllaser, der für Kämpfe auf mittlere Entfernung ausgelegt ist. \\n\\nMuss mit einem der folgenden Frequenzkristalle geladen werden: Gamma, Infrared, Microwave, Multifrequency, Radio, Standard, Ultraviolet, Xray.',\n",
       "  'en': 'A high-powered beam laser. Good for medium range encounters. \\r\\n\\r\\nRequires frequency crystal ammo types: Gamma, Infrared, Microwave, Multifrequency, Radio, Standard, Ultraviolet, Xray.',\n",
       "  'es': 'Un láser de rayos de alta potencia. Eficaz en enfrentamientos a media distancia. \\n\\n\\n\\nRequiere tipos de munición de cristales de frecuencia: gamma, infrarrojos, microondas, multifrecuencia, radio, estándar, ultravioleta, rayos\\xa0X.',\n",
       "  'fr': 'Laser à rayons de grande puissance. Arme idéale pour les combats à moyenne portée. \\n\\nRequiert les cristaux de fréquence suivants en guise de munitions\\xa0: gamma, infrarouge, micro-onde, multifréquence, radio, standard, ultraviolet, rayon\\xa0X.',\n",
       "  'ja': 'ハイパワービームレーザー。中距離での交戦に適している。\\r\\n\\n装填可能なフリーケンシークリスタルのタイプ : ガンマ、赤外線、マイクロ波、多周波、放射線、標準、紫外線、エックス線。',\n",
       "  'ko': '고출력 빔 레이저입니다. 중거리 교전에 특화된 무기입니다. <br><br>사용 가능한 프리퀀시 크리스탈: 감마선, 적외선, 마이크로파, 멀티프리퀀시, 라디오파, 스탠다드, 자외선, 엑스선.',\n",
       "  'ru': 'Мощный непрерывный лазер. Рекомендуется для ведения огня на средних дистанциях.\\n\\nСледует заряжать частотными кристаллами: Gamma, Infrared, Microwave, Multifrequency, Radio, Standard, Ultraviolet, Xray.',\n",
       "  'zh': '一种高功率集束激光器。适合中程交战。\\r\\n\\r\\n使用的频率晶体弹药类型：伽玛、红外线、微波、多频、射频、标准、紫外线和X射线。'},\n",
       " 'graphicID': 11111,\n",
       " 'groupID': 53,\n",
       " 'iconID': 352,\n",
       " 'marketGroupID': 567,\n",
       " 'mass': 500.0,\n",
       " 'metaGroupID': 1,\n",
       " 'name': {'de': 'Small Focused Beam Laser I',\n",
       "  'en': 'Small Focused Beam Laser I',\n",
       "  'es': 'Láser de rayos concentrado pequeño\\xa0I',\n",
       "  'fr': 'Petit laser à rayons focalisé I',\n",
       "  'ja': '小型フォーカスビームレーザーI',\n",
       "  'ko': '소형 집속 빔 레이저 I',\n",
       "  'ru': 'Small Focused Beam Laser I',\n",
       "  'zh': '小型聚焦集束激光器 I'},\n",
       " 'portionSize': 1,\n",
       " 'published': True,\n",
       " 'sofFactionName': 'amarrbase',\n",
       " 'volume': 5.0}"
      ]
     },
     "execution_count": 20,
     "metadata": {},
     "output_type": "execute_result"
    }
   ],
   "source": [
    "dTypes[454]"
   ]
  }
 ],
 "metadata": {
  "kernelspec": {
   "display_name": "evestudy-HXONSRgu-py3.13",
   "language": "python",
   "name": "python3"
  },
  "language_info": {
   "codemirror_mode": {
    "name": "ipython",
    "version": 3
   },
   "file_extension": ".py",
   "mimetype": "text/x-python",
   "name": "python",
   "nbconvert_exporter": "python",
   "pygments_lexer": "ipython3",
   "version": "3.13.2"
  }
 },
 "nbformat": 4,
 "nbformat_minor": 2
}
