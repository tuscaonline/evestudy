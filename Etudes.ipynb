{
 "cells": [
  {
   "cell_type": "code",
   "execution_count": 2,
   "metadata": {},
   "outputs": [],
   "source": [
    "import rich.progress\n",
    "import yaml\n",
    "from pathlib import Path"
   ]
  },
  {
   "cell_type": "code",
   "execution_count": 3,
   "metadata": {},
   "outputs": [],
   "source": [
    "sdePath = Path('../sde')\n",
    "fsdPath = sdePath / 'fsd'"
   ]
  },
  {
   "cell_type": "code",
   "execution_count": 10,
   "metadata": {},
   "outputs": [
    {
     "data": {
      "application/vnd.jupyter.widget-view+json": {
       "model_id": "78732b18d8ef4c70a7ae51be6a8730db",
       "version_major": 2,
       "version_minor": 0
      },
      "text/plain": [
       "Output()"
      ]
     },
     "metadata": {},
     "output_type": "display_data"
    },
    {
     "data": {
      "text/html": [
       "<pre style=\"white-space:pre;overflow-x:auto;line-height:normal;font-family:Menlo,'DejaVu Sans Mono',consolas,'Courier New',monospace\"></pre>\n"
      ],
      "text/plain": []
     },
     "metadata": {},
     "output_type": "display_data"
    }
   ],
   "source": [
    "with rich.progress.open(fsdPath/'types.yaml', \"r\", encoding='utf-8') as fd:\n",
    "    dTypes:dict = yaml.load(fd, yaml.CLoader)"
   ]
  },
  {
   "cell_type": "code",
   "execution_count": 11,
   "metadata": {},
   "outputs": [
    {
     "data": {
      "text/plain": [
       "{'basePrice': 30000.0,\n",
       " 'description': {'de': 'Eine ultraschwere Lenkwaffe mit Durchschlagkopf. Sie ist zwar ein langsames Projektil, aber ihr bloßes Schadenspotential ist einfach überwältigend.',\n",
       "  'en': 'An ultra-heavy piercing missile. While it is a slow projectile, its sheer damage potential is simply staggering.',\n",
       "  'es': 'Misil perforante ultrapesado. Aunque lento, su potencial de daño real resulta impresionante.',\n",
       "  'fr': \"Missile perforant ultra-lourd. Il s'agit certes d'un projectile assez lent, mais au potentiel destructeur tout simplement impressionnant.\",\n",
       "  'ja': 'ウルトラヘビーピアシングミサイル。速度は遅いが、その破壊力は実に驚異的。',\n",
       "  'ko': '대형 관통 미사일입니다. 느린 비행 속도를 지니고 있으나 타격 시 적에게 치명적인 피해를 입힙니다.',\n",
       "  'ru': 'Сверхтяжелая бронебойная ракета. Отличается низкой скоростью, но ее ударная мощь поражает воображение.',\n",
       "  'zh': '一种终极重型穿刺导弹。虽然慢而笨重，但是破坏力着实惊人。'},\n",
       " 'graphicID': 20014,\n",
       " 'groupID': 89,\n",
       " 'iconID': 1346,\n",
       " 'marketGroupID': 923,\n",
       " 'mass': 1500.0,\n",
       " 'metaGroupID': 1,\n",
       " 'name': {'de': 'Scourge Torpedo',\n",
       "  'en': 'Scourge Torpedo',\n",
       "  'es': 'Torpedo Scourge',\n",
       "  'fr': 'Torpille Scourge',\n",
       "  'ja': 'スコージトルピード',\n",
       "  'ko': '스커지 토피도',\n",
       "  'ru': 'Scourge Torpedo',\n",
       "  'zh': '鞭挞鱼雷'},\n",
       " 'portionSize': 100,\n",
       " 'published': True,\n",
       " 'radius': 300.0,\n",
       " 'volume': 0.05}"
      ]
     },
     "execution_count": 11,
     "metadata": {},
     "output_type": "execute_result"
    }
   ],
   "source": [
    "dTypes[267]"
   ]
  },
  {
   "cell_type": "code",
   "execution_count": 9,
   "metadata": {},
   "outputs": [
    {
     "data": {
      "text/plain": [
       "{('materials', list)}"
      ]
     },
     "execution_count": 9,
     "metadata": {},
     "output_type": "execute_result"
    }
   ],
   "source": [
    "clef = set()\n",
    "for i in dTypes.values():\n",
    "    for key, val in i.items():\n",
    "        clef.add((key, type(val)))\n",
    "clef"
   ]
  }
 ],
 "metadata": {
  "kernelspec": {
   "display_name": "evestudy-HXONSRgu-py3.13",
   "language": "python",
   "name": "python3"
  },
  "language_info": {
   "codemirror_mode": {
    "name": "ipython",
    "version": 3
   },
   "file_extension": ".py",
   "mimetype": "text/x-python",
   "name": "python",
   "nbconvert_exporter": "python",
   "pygments_lexer": "ipython3",
   "version": "3.13.2"
  }
 },
 "nbformat": 4,
 "nbformat_minor": 2
}
